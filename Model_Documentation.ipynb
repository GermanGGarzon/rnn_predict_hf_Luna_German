{
 "cells": [
  {
   "cell_type": "code",
   "execution_count": 19,
   "id": "362cf4b8-b422-40b8-9e1e-ff3f6d3a931e",
   "metadata": {
    "tags": []
   },
   "outputs": [],
   "source": [
    "import numpy as np"
   ]
  },
  {
   "cell_type": "markdown",
   "id": "d08ef872-49ab-4ec7-95b0-c1624c5884a5",
   "metadata": {},
   "source": [
    "# Synthetic Data Glance"
   ]
  },
  {
   "cell_type": "markdown",
   "id": "86e5aff3-91de-404d-bcc9-cde5b43aacad",
   "metadata": {},
   "source": [
    "## Labels"
   ]
  },
  {
   "cell_type": "code",
   "execution_count": 9,
   "id": "9f36061f-6b6a-445a-b951-b4515ff830b5",
   "metadata": {
    "tags": []
   },
   "outputs": [],
   "source": [
    "import pickle\n",
    "\n",
    "with open('labels.pkl', 'rb') as f:\n",
    "    labels = pickle.load(f)"
   ]
  },
  {
   "cell_type": "code",
   "execution_count": 12,
   "id": "da1f6aea-3093-4116-96fe-2d4f5249fc5e",
   "metadata": {
    "tags": []
   },
   "outputs": [
    {
     "name": "stdout",
     "output_type": "stream",
     "text": [
      "0: 92\n",
      "1: 8\n"
     ]
    }
   ],
   "source": [
    "import collections\n",
    "# Count the occurrences of each value in the list\n",
    "labels_dict = collections.Counter(labels)\n",
    "\n",
    "# Print the result\n",
    "for value, count in labels_dict.items():\n",
    "    print(f\"{value}: {count}\")"
   ]
  },
  {
   "cell_type": "markdown",
   "id": "818df998-7068-4a9b-be27-fb485593b2ba",
   "metadata": {},
   "source": [
    "## Sequences"
   ]
  },
  {
   "cell_type": "code",
   "execution_count": 13,
   "id": "6d375878-c384-440c-a56d-854fdfce6eda",
   "metadata": {
    "tags": []
   },
   "outputs": [],
   "source": [
    "with open('sequences.pkl', 'rb') as f:\n",
    "    sequences = pickle.load(f)"
   ]
  },
  {
   "cell_type": "code",
   "execution_count": 23,
   "id": "5a9196e7-ff6e-4dd8-8c88-77b0e452e80f",
   "metadata": {
    "tags": []
   },
   "outputs": [
    {
     "data": {
      "text/plain": [
       "100"
      ]
     },
     "execution_count": 23,
     "metadata": {},
     "output_type": "execute_result"
    }
   ],
   "source": [
    "len(sequences)"
   ]
  },
  {
   "cell_type": "code",
   "execution_count": 22,
   "id": "77aaae9c-0098-415b-a95a-514f5cd774de",
   "metadata": {
    "tags": []
   },
   "outputs": [
    {
     "data": {
      "text/plain": [
       "72"
      ]
     },
     "execution_count": 22,
     "metadata": {},
     "output_type": "execute_result"
    }
   ],
   "source": [
    "len(sequences[0])"
   ]
  },
  {
   "cell_type": "markdown",
   "id": "18d92735-43a9-48e4-b7f7-9159032efd6d",
   "metadata": {},
   "source": [
    "## Time duration"
   ]
  },
  {
   "cell_type": "code",
   "execution_count": 29,
   "id": "7200b6c3-4bfb-4b11-8694-74c53d2faa78",
   "metadata": {
    "tags": []
   },
   "outputs": [],
   "source": [
    "with open('times.pkl', 'rb') as f:\n",
    "    times = pickle.load(f, encoding='latin1')"
   ]
  },
  {
   "cell_type": "code",
   "execution_count": 31,
   "id": "da9429cf-0f49-4797-98ca-6b2a0bbc92c7",
   "metadata": {
    "tags": []
   },
   "outputs": [
    {
     "data": {
      "text/plain": [
       "100"
      ]
     },
     "execution_count": 31,
     "metadata": {},
     "output_type": "execute_result"
    }
   ],
   "source": [
    "len(times)"
   ]
  },
  {
   "cell_type": "code",
   "execution_count": 32,
   "id": "433416bb-490e-4ebf-9d04-d2829f159242",
   "metadata": {
    "tags": []
   },
   "outputs": [
    {
     "data": {
      "text/plain": [
       "72"
      ]
     },
     "execution_count": 32,
     "metadata": {},
     "output_type": "execute_result"
    }
   ],
   "source": [
    "len(times[0])"
   ]
  },
  {
   "cell_type": "markdown",
   "id": "1291cb93-7c99-4943-8d11-cc396d4d9811",
   "metadata": {},
   "source": [
    "## Embedding"
   ]
  },
  {
   "cell_type": "code",
   "execution_count": 27,
   "id": "15e05638-bce0-4d27-9f0a-44e5c54fdead",
   "metadata": {
    "tags": []
   },
   "outputs": [],
   "source": [
    "with open('emb.pkl', 'rb') as f:\n",
    "    emb = pickle.load(f, encoding='latin1')"
   ]
  },
  {
   "cell_type": "code",
   "execution_count": 28,
   "id": "602ccd37-9edb-4971-a89d-d3e2be678de6",
   "metadata": {
    "tags": []
   },
   "outputs": [
    {
     "data": {
      "text/plain": [
       "array([[-0.00104703, -0.00018714,  0.00812972, ..., -0.003401  ,\n",
       "         0.00230845,  0.00485769],\n",
       "       [-0.00110725,  0.00222372, -0.00311453, ...,  0.00434983,\n",
       "         0.00357147,  0.00088711],\n",
       "       [ 0.00985814,  0.00543434,  0.00257608, ...,  0.00998995,\n",
       "        -0.00293335, -0.00990275],\n",
       "       ...,\n",
       "       [-0.00400008,  0.00765756, -0.00077224, ..., -0.00690673,\n",
       "        -0.00307302, -0.00459354],\n",
       "       [ 0.00655403,  0.00189304,  0.0076644 , ...,  0.0084704 ,\n",
       "        -0.00972553,  0.00065817],\n",
       "       [ 0.00982774, -0.00962515,  0.00661188, ...,  0.00898594,\n",
       "        -0.00266903,  0.00202336]])"
      ]
     },
     "execution_count": 28,
     "metadata": {},
     "output_type": "execute_result"
    }
   ],
   "source": [
    "emb"
   ]
  },
  {
   "cell_type": "markdown",
   "id": "84a64ec6-0a38-4b83-96ad-3292393f1ffa",
   "metadata": {
    "tags": []
   },
   "source": [
    "# Model Running Log"
   ]
  },
  {
   "cell_type": "markdown",
   "id": "160fa486-c7f3-4392-a6bb-b3f18793afbc",
   "metadata": {},
   "source": [
    ">python gru_onehot.py sequences.pkl labels.pkl output1 && \\\n",
    "\n",
    ">Loading data ...  done!!<br />\n",
    "Building the model ...  done!!<br />\n",
    "Constructing the optimizer ...  done!!<br />\n",
    "Optimization start !!<br />\n",
    "epoch:0, valid_auc:0.222222<br />\n",
    "Currenlty the best test_auc:0.777778<br />\n",
    "epoch:1, valid_auc:0.222222<br />\n",
    "epoch:2, valid_auc:0.222222<br />\n",
    "epoch:3, valid_auc:0.222222<br />\n",
    "epoch:4, valid_auc:0.222222<br />\n",
    "..."
   ]
  },
  {
   "cell_type": "markdown",
   "id": "7ed3f775-345e-4f86-9715-98546711cdf3",
   "metadata": {},
   "source": [
    ">python gru_onehot_time.py sequences.pkl times.pkl labels.pkl output2 && \\\n",
    "\n",
    ">Loading data ...  done!!<br />\n",
    "Building the model ...  done!!<br />\n",
    "Constructing the optimizer ...  done!!<br />\n",
    "Optimization start !!<br />\n",
    "epoch:0, valid_auc:0.625000<br />\n",
    "Currenlty the best test_auc:0.444444<br />\n",
    "epoch:1, valid_auc:0.625000<br />\n",
    "epoch:2, valid_auc:0.625000<br />\n",
    "epoch:3, valid_auc:0.625000<br />\n",
    "epoch:4, valid_auc:0.625000<br />\n",
    "..."
   ]
  },
  {
   "cell_type": "markdown",
   "id": "3376587a-b8af-4009-ad97-ef765c5043cc",
   "metadata": {},
   "source": [
    ">python gru_emb.py sequences.pkl labels.pkl emb.pkl output3\n",
    "\n",
    ">Building the model ...  done!!<br />\n",
    "Constructing the optimizer ...  done!!<br />\n",
    "Optimization start !!<br />\n",
    "epoch:0, valid_auc:0.777778<br />\n",
    "Currenlty the best test_auc:0.333333<br />\n",
    "epoch:1, valid_auc:0.777778<br />\n",
    "epoch:2, valid_auc:0.444444<br />\n",
    "epoch:3, valid_auc:0.444444<br />\n",
    "epoch:4, valid_auc:0.444444<br />\n",
    "..."
   ]
  },
  {
   "cell_type": "markdown",
   "id": "3e8635e5-2459-4c54-9526-433b8352e1d7",
   "metadata": {},
   "source": [
    ">python gru_emb_time.py sequences.pkl times.pkl labels.pkl emb.pkl output4\n",
    "\n",
    ">Loading data ...  done!!<br />\n",
    "Building the model ...  done!!<br />\n",
    "Constructing the optimizer ...  done!!<br />\n",
    "Optimization start !!<br />\n",
    "epoch:0, valid_auc:0.444444<br />\n",
    "Currenlty the best test_auc:0.250000<br />\n",
    "epoch:1, valid_auc:0.444444<br />\n",
    "epoch:2, valid_auc:0.444444<br />\n",
    "epoch:3, valid_auc:0.444444<br />\n",
    "epoch:4, valid_auc:0.444444<br />\n",
    "..."
   ]
  },
  {
   "cell_type": "markdown",
   "id": "9a671504-d38c-4f94-b65e-b1413b36607b",
   "metadata": {},
   "source": [
    "# Runtime Documentation"
   ]
  },
  {
   "cell_type": "markdown",
   "id": "aa68b353-dac6-4326-801c-ae66d37ee09f",
   "metadata": {},
   "source": [
    "Model Name Runtime\n",
    "\n",
    "\n",
    "GRU_onehot 2 hrs 53 min\n",
    "\n",
    "\n",
    "GRU_onehot_time 2 hrs 38 min\n",
    "\n",
    "\n",
    "GRU_emb 2 hrs 39 min\n",
    "\n",
    "\n",
    "GRU_emb_time 2 hrs 56 min\n",
    "\n"
   ]
  },
  {
   "cell_type": "markdown",
   "id": "fabb615f-45f5-4944-9cf7-696f25b365cd",
   "metadata": {},
   "source": [
    "# Output Data Glandce"
   ]
  },
  {
   "cell_type": "code",
   "execution_count": 7,
   "id": "e72d9f54-ca73-4ef7-9e0c-ea284a469b2d",
   "metadata": {
    "tags": []
   },
   "outputs": [
    {
     "name": "stdout",
     "output_type": "stream",
     "text": [
      "b_logistic\n",
      "b_gru\n",
      "W_gru\n",
      "W_logistic\n",
      "U_gru\n"
     ]
    }
   ],
   "source": [
    "# Load the .npz file\n",
    "data = np.load('output1.npz')\n",
    "\n",
    "data.keys()\n",
    "for key in data.keys():\n",
    "    print(key)"
   ]
  },
  {
   "cell_type": "code",
   "execution_count": 8,
   "id": "a7107540-768c-425b-a639-55e447eef04b",
   "metadata": {
    "tags": []
   },
   "outputs": [
    {
     "name": "stdout",
     "output_type": "stream",
     "text": [
      "b_logistic\n",
      "b_gru\n",
      "W_gru\n",
      "W_logistic\n",
      "U_gru\n"
     ]
    }
   ],
   "source": [
    "# Load the .npz file\n",
    "data = np.load('output2.npz')\n",
    "\n",
    "data.keys()\n",
    "for key in data.keys():\n",
    "    print(key)"
   ]
  },
  {
   "cell_type": "code",
   "execution_count": 9,
   "id": "72984e65-6a7c-4c32-b161-3c38718360de",
   "metadata": {
    "tags": []
   },
   "outputs": [
    {
     "name": "stdout",
     "output_type": "stream",
     "text": [
      "b_logistic\n",
      "b_gru\n",
      "W_gru\n",
      "W_logistic\n",
      "U_gru\n"
     ]
    }
   ],
   "source": [
    "# Load the .npz file\n",
    "data = np.load('output3.npz')\n",
    "\n",
    "data.keys()\n",
    "for key in data.keys():\n",
    "    print(key)"
   ]
  },
  {
   "cell_type": "code",
   "execution_count": 10,
   "id": "d146caf9-bf1a-4937-a78b-c9d269726000",
   "metadata": {
    "tags": []
   },
   "outputs": [
    {
     "name": "stdout",
     "output_type": "stream",
     "text": [
      "b_logistic\n",
      "b_gru\n",
      "W_gru\n",
      "W_logistic\n",
      "U_gru\n"
     ]
    }
   ],
   "source": [
    "# Load the .npz file\n",
    "data = np.load('output4.npz')\n",
    "\n",
    "data.keys()\n",
    "for key in data.keys():\n",
    "    print(key)"
   ]
  },
  {
   "cell_type": "code",
   "execution_count": null,
   "id": "a81cd879-c3ff-426d-a955-d366c45916bd",
   "metadata": {},
   "outputs": [],
   "source": []
  }
 ],
 "metadata": {
  "kernelspec": {
   "display_name": "Python 3 (ipykernel)",
   "language": "python",
   "name": "python3"
  },
  "language_info": {
   "codemirror_mode": {
    "name": "ipython",
    "version": 3
   },
   "file_extension": ".py",
   "mimetype": "text/x-python",
   "name": "python",
   "nbconvert_exporter": "python",
   "pygments_lexer": "ipython3",
   "version": "3.11.0"
  }
 },
 "nbformat": 4,
 "nbformat_minor": 5
}
