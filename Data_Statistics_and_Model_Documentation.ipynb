{
 "cells": [
  {
   "cell_type": "code",
   "execution_count": 1,
   "id": "362cf4b8-b422-40b8-9e1e-ff3f6d3a931e",
   "metadata": {
    "tags": []
   },
   "outputs": [],
   "source": [
    "import numpy as np\n",
    "import pandas as pd\n",
    "import pickle\n",
    "import warnings\n",
    "\n",
    "# Ignore all warnings\n",
    "warnings.filterwarnings(\"ignore\", category=Warning)"
   ]
  },
  {
   "cell_type": "markdown",
   "id": "d2f73275-7906-41dd-ba97-3bffa6f58034",
   "metadata": {
    "tags": []
   },
   "source": [
    "# 1. Create model dataset from MediSyn data"
   ]
  },
  {
   "cell_type": "code",
   "execution_count": 2,
   "id": "c3c3c84e-fad9-49ed-baef-09469cf8fd84",
   "metadata": {
    "tags": []
   },
   "outputs": [],
   "source": [
    "diagnose = pd.read_csv(\"DIAGNOSES_ICD.csv\")"
   ]
  },
  {
   "cell_type": "code",
   "execution_count": 3,
   "id": "075b3619-27e8-47f0-b043-103f00eae170",
   "metadata": {
    "tags": []
   },
   "outputs": [
    {
     "data": {
      "text/plain": [
       "Unnamed: 0     int64\n",
       "SUBJECT_ID     int64\n",
       "HADM_ID        int64\n",
       "SEQ_NUM        int64\n",
       "ICD9_CODE     object\n",
       "dtype: object"
      ]
     },
     "execution_count": 3,
     "metadata": {},
     "output_type": "execute_result"
    }
   ],
   "source": [
    "diagnose.dtypes"
   ]
  },
  {
   "cell_type": "code",
   "execution_count": 4,
   "id": "ceaf2837-a775-43ee-bab6-d51eb6037726",
   "metadata": {
    "tags": []
   },
   "outputs": [
    {
     "data": {
      "text/html": [
       "<div>\n",
       "<style scoped>\n",
       "    .dataframe tbody tr th:only-of-type {\n",
       "        vertical-align: middle;\n",
       "    }\n",
       "\n",
       "    .dataframe tbody tr th {\n",
       "        vertical-align: top;\n",
       "    }\n",
       "\n",
       "    .dataframe thead th {\n",
       "        text-align: right;\n",
       "    }\n",
       "</style>\n",
       "<table border=\"1\" class=\"dataframe\">\n",
       "  <thead>\n",
       "    <tr style=\"text-align: right;\">\n",
       "      <th></th>\n",
       "      <th>Unnamed: 0</th>\n",
       "      <th>SUBJECT_ID</th>\n",
       "      <th>HADM_ID</th>\n",
       "      <th>SEQ_NUM</th>\n",
       "      <th>ICD9_CODE</th>\n",
       "    </tr>\n",
       "  </thead>\n",
       "  <tbody>\n",
       "    <tr>\n",
       "      <th>0</th>\n",
       "      <td>0</td>\n",
       "      <td>1</td>\n",
       "      <td>100000</td>\n",
       "      <td>0</td>\n",
       "      <td>51881</td>\n",
       "    </tr>\n",
       "    <tr>\n",
       "      <th>1</th>\n",
       "      <td>1</td>\n",
       "      <td>1</td>\n",
       "      <td>100000</td>\n",
       "      <td>1</td>\n",
       "      <td>5990</td>\n",
       "    </tr>\n",
       "    <tr>\n",
       "      <th>2</th>\n",
       "      <td>2</td>\n",
       "      <td>1</td>\n",
       "      <td>100000</td>\n",
       "      <td>2</td>\n",
       "      <td>5849</td>\n",
       "    </tr>\n",
       "    <tr>\n",
       "      <th>3</th>\n",
       "      <td>3</td>\n",
       "      <td>1</td>\n",
       "      <td>100000</td>\n",
       "      <td>3</td>\n",
       "      <td>2765</td>\n",
       "    </tr>\n",
       "    <tr>\n",
       "      <th>4</th>\n",
       "      <td>4</td>\n",
       "      <td>1</td>\n",
       "      <td>100000</td>\n",
       "      <td>4</td>\n",
       "      <td>2449</td>\n",
       "    </tr>\n",
       "  </tbody>\n",
       "</table>\n",
       "</div>"
      ],
      "text/plain": [
       "   Unnamed: 0  SUBJECT_ID  HADM_ID  SEQ_NUM ICD9_CODE\n",
       "0           0           1   100000        0     51881\n",
       "1           1           1   100000        1      5990\n",
       "2           2           1   100000        2      5849\n",
       "3           3           1   100000        3      2765\n",
       "4           4           1   100000        4      2449"
      ]
     },
     "execution_count": 4,
     "metadata": {},
     "output_type": "execute_result"
    }
   ],
   "source": [
    "diagnose.head(5)"
   ]
  },
  {
   "cell_type": "code",
   "execution_count": null,
   "id": "e6c31cc9-ac62-41fd-a87b-e8792aea667e",
   "metadata": {
    "tags": []
   },
   "outputs": [
    {
     "data": {
      "text/html": [
       "<div>\n",
       "<style scoped>\n",
       "    .dataframe tbody tr th:only-of-type {\n",
       "        vertical-align: middle;\n",
       "    }\n",
       "\n",
       "    .dataframe tbody tr th {\n",
       "        vertical-align: top;\n",
       "    }\n",
       "\n",
       "    .dataframe thead th {\n",
       "        text-align: right;\n",
       "    }\n",
       "</style>\n",
       "<table border=\"1\" class=\"dataframe\">\n",
       "  <thead>\n",
       "    <tr style=\"text-align: right;\">\n",
       "      <th></th>\n",
       "      <th>Unnamed: 0</th>\n",
       "      <th>SUBJECT_ID</th>\n",
       "      <th>HADM_ID</th>\n",
       "      <th>SEQ_NUM</th>\n",
       "      <th>ICD9_CODE</th>\n",
       "    </tr>\n",
       "  </thead>\n",
       "  <tbody>\n",
       "    <tr>\n",
       "      <th>558399</th>\n",
       "      <td>558399</td>\n",
       "      <td>50000</td>\n",
       "      <td>154293</td>\n",
       "      <td>12</td>\n",
       "      <td>44020</td>\n",
       "    </tr>\n",
       "    <tr>\n",
       "      <th>558400</th>\n",
       "      <td>558400</td>\n",
       "      <td>50000</td>\n",
       "      <td>154293</td>\n",
       "      <td>13</td>\n",
       "      <td>7230</td>\n",
       "    </tr>\n",
       "    <tr>\n",
       "      <th>558401</th>\n",
       "      <td>558401</td>\n",
       "      <td>50000</td>\n",
       "      <td>154293</td>\n",
       "      <td>14</td>\n",
       "      <td>99641</td>\n",
       "    </tr>\n",
       "    <tr>\n",
       "      <th>558402</th>\n",
       "      <td>558402</td>\n",
       "      <td>50000</td>\n",
       "      <td>154293</td>\n",
       "      <td>15</td>\n",
       "      <td>1552</td>\n",
       "    </tr>\n",
       "    <tr>\n",
       "      <th>558403</th>\n",
       "      <td>558403</td>\n",
       "      <td>50000</td>\n",
       "      <td>154293</td>\n",
       "      <td>16</td>\n",
       "      <td>34460</td>\n",
       "    </tr>\n",
       "  </tbody>\n",
       "</table>\n",
       "</div>"
      ],
      "text/plain": [
       "        Unnamed: 0  SUBJECT_ID  HADM_ID  SEQ_NUM ICD9_CODE\n",
       "558399      558399       50000   154293       12     44020\n",
       "558400      558400       50000   154293       13      7230\n",
       "558401      558401       50000   154293       14     99641\n",
       "558402      558402       50000   154293       15      1552\n",
       "558403      558403       50000   154293       16     34460"
      ]
     },
     "execution_count": 73,
     "metadata": {},
     "output_type": "execute_result"
    }
   ],
   "source": [
    "diagnose.tail(5)"
   ]
  },
  {
   "cell_type": "markdown",
   "id": "5e0cd952-fb8a-4c9f-b1ec-5f06bdc78fa3",
   "metadata": {},
   "source": [
    "## Create labels.pkl\n",
    "Identify cases with ICD9_CODE represent Heart Failure"
   ]
  },
  {
   "cell_type": "code",
   "execution_count": 5,
   "id": "9e9d26fc-5cda-452a-8f92-7f289b1d5d75",
   "metadata": {
    "tags": []
   },
   "outputs": [],
   "source": [
    "labels = diagnose.groupby('SUBJECT_ID')['ICD9_CODE'].apply(lambda x: '4280' in x.tolist()).sort_index().astype(int).tolist()"
   ]
  },
  {
   "cell_type": "code",
   "execution_count": 6,
   "id": "8e321045-de0a-4a4c-afef-fbcbce7db025",
   "metadata": {
    "tags": []
   },
   "outputs": [
    {
     "data": {
      "text/plain": [
       "49984"
      ]
     },
     "execution_count": 6,
     "metadata": {},
     "output_type": "execute_result"
    }
   ],
   "source": [
    "len(labels) # total patient"
   ]
  },
  {
   "cell_type": "code",
   "execution_count": 76,
   "id": "73e387c5-47f9-431b-bac9-e1e1b7b436bc",
   "metadata": {
    "tags": []
   },
   "outputs": [
    {
     "data": {
      "text/plain": [
       "10807"
      ]
     },
     "execution_count": 76,
     "metadata": {},
     "output_type": "execute_result"
    }
   ],
   "source": [
    "sum(labels) # heart failure cases"
   ]
  },
  {
   "cell_type": "code",
   "execution_count": 77,
   "id": "9e178a00-37a6-4cdc-8acb-7dc3d19849fc",
   "metadata": {
    "tags": []
   },
   "outputs": [],
   "source": [
    "diagnose['ICD9_FAC'] = pd.factorize(diagnose['ICD9_CODE'])[0]"
   ]
  },
  {
   "cell_type": "code",
   "execution_count": 78,
   "id": "0a4203a3-6be6-40cd-9df0-b5c6e76beb2f",
   "metadata": {
    "tags": []
   },
   "outputs": [
    {
     "data": {
      "text/html": [
       "<div>\n",
       "<style scoped>\n",
       "    .dataframe tbody tr th:only-of-type {\n",
       "        vertical-align: middle;\n",
       "    }\n",
       "\n",
       "    .dataframe tbody tr th {\n",
       "        vertical-align: top;\n",
       "    }\n",
       "\n",
       "    .dataframe thead th {\n",
       "        text-align: right;\n",
       "    }\n",
       "</style>\n",
       "<table border=\"1\" class=\"dataframe\">\n",
       "  <thead>\n",
       "    <tr style=\"text-align: right;\">\n",
       "      <th></th>\n",
       "      <th>Unnamed: 0</th>\n",
       "      <th>SUBJECT_ID</th>\n",
       "      <th>HADM_ID</th>\n",
       "      <th>SEQ_NUM</th>\n",
       "      <th>ICD9_CODE</th>\n",
       "      <th>ICD9_FAC</th>\n",
       "    </tr>\n",
       "  </thead>\n",
       "  <tbody>\n",
       "    <tr>\n",
       "      <th>49</th>\n",
       "      <td>49</td>\n",
       "      <td>3</td>\n",
       "      <td>100004</td>\n",
       "      <td>3</td>\n",
       "      <td>4280</td>\n",
       "      <td>44</td>\n",
       "    </tr>\n",
       "    <tr>\n",
       "      <th>93</th>\n",
       "      <td>93</td>\n",
       "      <td>7</td>\n",
       "      <td>100008</td>\n",
       "      <td>1</td>\n",
       "      <td>4280</td>\n",
       "      <td>44</td>\n",
       "    </tr>\n",
       "    <tr>\n",
       "      <th>123</th>\n",
       "      <td>123</td>\n",
       "      <td>9</td>\n",
       "      <td>100011</td>\n",
       "      <td>0</td>\n",
       "      <td>4280</td>\n",
       "      <td>44</td>\n",
       "    </tr>\n",
       "    <tr>\n",
       "      <th>326</th>\n",
       "      <td>326</td>\n",
       "      <td>25</td>\n",
       "      <td>100029</td>\n",
       "      <td>2</td>\n",
       "      <td>4280</td>\n",
       "      <td>44</td>\n",
       "    </tr>\n",
       "    <tr>\n",
       "      <th>394</th>\n",
       "      <td>394</td>\n",
       "      <td>33</td>\n",
       "      <td>100037</td>\n",
       "      <td>1</td>\n",
       "      <td>4280</td>\n",
       "      <td>44</td>\n",
       "    </tr>\n",
       "    <tr>\n",
       "      <th>...</th>\n",
       "      <td>...</td>\n",
       "      <td>...</td>\n",
       "      <td>...</td>\n",
       "      <td>...</td>\n",
       "      <td>...</td>\n",
       "      <td>...</td>\n",
       "    </tr>\n",
       "    <tr>\n",
       "      <th>558243</th>\n",
       "      <td>558243</td>\n",
       "      <td>49991</td>\n",
       "      <td>154282</td>\n",
       "      <td>3</td>\n",
       "      <td>4280</td>\n",
       "      <td>44</td>\n",
       "    </tr>\n",
       "    <tr>\n",
       "      <th>558256</th>\n",
       "      <td>558256</td>\n",
       "      <td>49991</td>\n",
       "      <td>154283</td>\n",
       "      <td>1</td>\n",
       "      <td>4280</td>\n",
       "      <td>44</td>\n",
       "    </tr>\n",
       "    <tr>\n",
       "      <th>558281</th>\n",
       "      <td>558281</td>\n",
       "      <td>49991</td>\n",
       "      <td>154284</td>\n",
       "      <td>2</td>\n",
       "      <td>4280</td>\n",
       "      <td>44</td>\n",
       "    </tr>\n",
       "    <tr>\n",
       "      <th>558310</th>\n",
       "      <td>558310</td>\n",
       "      <td>49993</td>\n",
       "      <td>154286</td>\n",
       "      <td>2</td>\n",
       "      <td>4280</td>\n",
       "      <td>44</td>\n",
       "    </tr>\n",
       "    <tr>\n",
       "      <th>558381</th>\n",
       "      <td>558381</td>\n",
       "      <td>49999</td>\n",
       "      <td>154292</td>\n",
       "      <td>1</td>\n",
       "      <td>4280</td>\n",
       "      <td>44</td>\n",
       "    </tr>\n",
       "  </tbody>\n",
       "</table>\n",
       "<p>11503 rows × 6 columns</p>\n",
       "</div>"
      ],
      "text/plain": [
       "        Unnamed: 0  SUBJECT_ID  HADM_ID  SEQ_NUM ICD9_CODE  ICD9_FAC\n",
       "49              49           3   100004        3      4280        44\n",
       "93              93           7   100008        1      4280        44\n",
       "123            123           9   100011        0      4280        44\n",
       "326            326          25   100029        2      4280        44\n",
       "394            394          33   100037        1      4280        44\n",
       "...            ...         ...      ...      ...       ...       ...\n",
       "558243      558243       49991   154282        3      4280        44\n",
       "558256      558256       49991   154283        1      4280        44\n",
       "558281      558281       49991   154284        2      4280        44\n",
       "558310      558310       49993   154286        2      4280        44\n",
       "558381      558381       49999   154292        1      4280        44\n",
       "\n",
       "[11503 rows x 6 columns]"
      ]
     },
     "execution_count": 78,
     "metadata": {},
     "output_type": "execute_result"
    }
   ],
   "source": [
    "diagnose.loc[diagnose.ICD9_CODE == '4280',]"
   ]
  },
  {
   "cell_type": "markdown",
   "id": "50e7be78-3c99-4267-830e-1e7fc72c99e4",
   "metadata": {},
   "source": [
    "## Create sequences.pkl"
   ]
  },
  {
   "cell_type": "code",
   "execution_count": 79,
   "id": "4dcba2f1-e258-467e-a439-de778d15f14f",
   "metadata": {
    "tags": []
   },
   "outputs": [],
   "source": [
    "def filter_icd_values(group):\n",
    "    icd_values = group['ICD9_FAC'].tolist()\n",
    "    index_44 = len(icd_values)  # initialize index as the length of the list\n",
    "    for i, icd in enumerate(icd_values):\n",
    "        if icd == 44:\n",
    "            index_44 = min(index_44, i)\n",
    "    if index_44 == len(icd_values):\n",
    "        return icd_values  # '4280' not found in the list\n",
    "    else:\n",
    "        return icd_values[:index_44]"
   ]
  },
  {
   "cell_type": "code",
   "execution_count": 80,
   "id": "d422a594-b29d-4cb5-9178-5386ac3ef41e",
   "metadata": {
    "tags": []
   },
   "outputs": [],
   "source": [
    "seq = diagnose.groupby('SUBJECT_ID').apply(filter_icd_values).tolist()"
   ]
  },
  {
   "cell_type": "code",
   "execution_count": 81,
   "id": "a63d2c4a-1a38-4df6-8813-3fb7788014e5",
   "metadata": {
    "tags": []
   },
   "outputs": [
    {
     "data": {
      "text/plain": [
       "5887"
      ]
     },
     "execution_count": 81,
     "metadata": {},
     "output_type": "execute_result"
    }
   ],
   "source": [
    "max(sum(seq, [])) # the number of uniqe ICD-9 codes in MediSyn data"
   ]
  },
  {
   "cell_type": "markdown",
   "id": "9032a9f4-296d-41a7-a689-b03d168f6d1f",
   "metadata": {},
   "source": [
    "## Create time.pkl"
   ]
  },
  {
   "cell_type": "markdown",
   "id": "e4034679-e232-4944-8614-9018a0f6f174",
   "metadata": {},
   "source": [
    "As this dataset is generalized using GAN model, so the admission date is not continuous for patients. So we generated the time stamp and duration between visits uising admission ID (HADM_ID) with the assumption that time duration between two visits of a same patient is about three months."
   ]
  },
  {
   "cell_type": "code",
   "execution_count": 7,
   "id": "b673aa3d-0ad7-44c7-a965-3f6336736152",
   "metadata": {
    "tags": []
   },
   "outputs": [],
   "source": [
    "# Calculate the minimum value of column HADM_ID within each group\n",
    "min_HADM_ID = diagnose.groupby('SUBJECT_ID')['HADM_ID'].transform('min')\n",
    "\n",
    "# Calculate the difference between column B and the minimum value of B within each group\n",
    "diagnose['TIME_STAMP'] = (diagnose['HADM_ID'] - min_HADM_ID)*90 + 1"
   ]
  },
  {
   "cell_type": "code",
   "execution_count": 9,
   "id": "928a95ab-6137-4b94-bade-c511fe7d122c",
   "metadata": {
    "tags": []
   },
   "outputs": [
    {
     "data": {
      "text/plain": [
       "1171"
      ]
     },
     "execution_count": 9,
     "metadata": {},
     "output_type": "execute_result"
    }
   ],
   "source": [
    "diagnose['TIME_STAMP'].max()"
   ]
  },
  {
   "cell_type": "code",
   "execution_count": 83,
   "id": "a5060a68-0bc2-4b4c-9f34-ec2e26c0935d",
   "metadata": {
    "tags": []
   },
   "outputs": [],
   "source": [
    "times = diagnose['TIME_STAMP'].tolist()"
   ]
  },
  {
   "cell_type": "markdown",
   "id": "06c65784-96ac-4db5-8cc5-e92ab74b0a3f",
   "metadata": {},
   "source": [
    "## Save pkl data for both Python 2 and Python 3"
   ]
  },
  {
   "cell_type": "code",
   "execution_count": 84,
   "id": "c5603dd5-270c-49b1-a629-f73e269bd1f8",
   "metadata": {},
   "outputs": [],
   "source": [
    "import pickle\n",
    "\n",
    "# Open a file for writing in binary mode\n",
    "with open(\"MediSyn_pkl/MS_labels.pkl\", \"wb\") as f:\n",
    "    # Use pickle.dump to serialize the list and write it to the file\n",
    "    pickle.dump(labels, f, protocol=2)\n",
    "    \n",
    "# Open a file for writing in binary mode\n",
    "with open(\"MediSyn_pkl/MS_sequences.pkl\", \"wb\") as f:\n",
    "    # Use pickle.dump to serialize the list and write it to the file\n",
    "    pickle.dump(seq, f, protocol=2)\n",
    "    \n",
    "# Open a file for writing in binary mode\n",
    "with open(\"MediSyn_pkl/MS_times.pkl\", \"wb\") as f:\n",
    "    # Use pickle.dump to serialize the list and write it to the file\n",
    "    pickle.dump(times, f, protocol=2)"
   ]
  },
  {
   "cell_type": "code",
   "execution_count": 85,
   "id": "fc0578ca-6f6e-4b62-9e6a-4b5cd7355313",
   "metadata": {},
   "outputs": [],
   "source": [
    "import pickle\n",
    "\n",
    "# Open a file for writing in binary mode\n",
    "with open(\"MediSyn_pkl/MS_labels_py3.pkl\", \"wb\") as f:\n",
    "    # Use pickle.dump to serialize the list and write it to the file\n",
    "    pickle.dump(labels, f)\n",
    "    \n",
    "# Open a file for writing in binary mode\n",
    "with open(\"MediSyn_pkl/MS_sequences_py3.pkl\", \"wb\") as f:\n",
    "    # Use pickle.dump to serialize the list and write it to the file\n",
    "    pickle.dump(seq, f)\n",
    "    \n",
    "# Open a file for writing in binary mode\n",
    "with open(\"MediSyn_pkl/MS_times_py3.pkl\", \"wb\") as f:\n",
    "    # Use pickle.dump to serialize the list and write it to the file\n",
    "    pickle.dump(times, f)"
   ]
  },
  {
   "cell_type": "markdown",
   "id": "d08ef872-49ab-4ec7-95b0-c1624c5884a5",
   "metadata": {
    "tags": []
   },
   "source": [
    "# 2. Synthetic Data Glance"
   ]
  },
  {
   "cell_type": "markdown",
   "id": "86e5aff3-91de-404d-bcc9-cde5b43aacad",
   "metadata": {},
   "source": [
    "## Labels"
   ]
  },
  {
   "cell_type": "code",
   "execution_count": 2,
   "id": "9f36061f-6b6a-445a-b951-b4515ff830b5",
   "metadata": {
    "tags": []
   },
   "outputs": [],
   "source": [
    "import pickle\n",
    "\n",
    "with open('labels.pkl', 'rb') as f:\n",
    "    labels = pickle.load(f)"
   ]
  },
  {
   "cell_type": "code",
   "execution_count": 49,
   "id": "3ede4710-ac66-48aa-83fd-5f438910327d",
   "metadata": {
    "tags": []
   },
   "outputs": [
    {
     "data": {
      "text/plain": [
       "1"
      ]
     },
     "execution_count": 49,
     "metadata": {},
     "output_type": "execute_result"
    }
   ],
   "source": [
    "labels[13]"
   ]
  },
  {
   "cell_type": "code",
   "execution_count": 3,
   "id": "da1f6aea-3093-4116-96fe-2d4f5249fc5e",
   "metadata": {
    "tags": []
   },
   "outputs": [
    {
     "name": "stdout",
     "output_type": "stream",
     "text": [
      "0: 92\n",
      "1: 8\n"
     ]
    }
   ],
   "source": [
    "import collections\n",
    "# Count the occurrences of each value in the list\n",
    "labels_dict = collections.Counter(labels)\n",
    "\n",
    "# Print the result\n",
    "for value, count in labels_dict.items():\n",
    "    print(f\"{value}: {count}\")"
   ]
  },
  {
   "cell_type": "markdown",
   "id": "818df998-7068-4a9b-be27-fb485593b2ba",
   "metadata": {},
   "source": [
    "## Sequences"
   ]
  },
  {
   "cell_type": "code",
   "execution_count": 39,
   "id": "6d375878-c384-440c-a56d-854fdfce6eda",
   "metadata": {
    "tags": []
   },
   "outputs": [],
   "source": [
    "with open('sequences.pkl', 'rb') as f:\n",
    "    sequences = pickle.load(f)"
   ]
  },
  {
   "cell_type": "code",
   "execution_count": 23,
   "id": "5a9196e7-ff6e-4dd8-8c88-77b0e452e80f",
   "metadata": {
    "tags": []
   },
   "outputs": [
    {
     "data": {
      "text/plain": [
       "100"
      ]
     },
     "execution_count": 23,
     "metadata": {},
     "output_type": "execute_result"
    }
   ],
   "source": [
    "len(sequences)"
   ]
  },
  {
   "cell_type": "markdown",
   "id": "18d92735-43a9-48e4-b7f7-9159032efd6d",
   "metadata": {},
   "source": [
    "## Time duration"
   ]
  },
  {
   "cell_type": "code",
   "execution_count": 6,
   "id": "7200b6c3-4bfb-4b11-8694-74c53d2faa78",
   "metadata": {
    "tags": []
   },
   "outputs": [],
   "source": [
    "with open('times.pkl', 'rb') as f:\n",
    "    times = pickle.load(f, encoding='latin1')"
   ]
  },
  {
   "cell_type": "code",
   "execution_count": 31,
   "id": "da9429cf-0f49-4797-98ca-6b2a0bbc92c7",
   "metadata": {
    "tags": []
   },
   "outputs": [
    {
     "data": {
      "text/plain": [
       "100"
      ]
     },
     "execution_count": 31,
     "metadata": {},
     "output_type": "execute_result"
    }
   ],
   "source": [
    "len(times)"
   ]
  },
  {
   "cell_type": "markdown",
   "id": "1291cb93-7c99-4943-8d11-cc396d4d9811",
   "metadata": {},
   "source": [
    "## Embedding"
   ]
  },
  {
   "cell_type": "code",
   "execution_count": 27,
   "id": "15e05638-bce0-4d27-9f0a-44e5c54fdead",
   "metadata": {
    "tags": []
   },
   "outputs": [],
   "source": [
    "with open('emb.pkl', 'rb') as f:\n",
    "    emb = pickle.load(f, encoding='latin1')"
   ]
  },
  {
   "cell_type": "code",
   "execution_count": 28,
   "id": "602ccd37-9edb-4971-a89d-d3e2be678de6",
   "metadata": {
    "tags": []
   },
   "outputs": [
    {
     "data": {
      "text/plain": [
       "array([[-0.00104703, -0.00018714,  0.00812972, ..., -0.003401  ,\n",
       "         0.00230845,  0.00485769],\n",
       "       [-0.00110725,  0.00222372, -0.00311453, ...,  0.00434983,\n",
       "         0.00357147,  0.00088711],\n",
       "       [ 0.00985814,  0.00543434,  0.00257608, ...,  0.00998995,\n",
       "        -0.00293335, -0.00990275],\n",
       "       ...,\n",
       "       [-0.00400008,  0.00765756, -0.00077224, ..., -0.00690673,\n",
       "        -0.00307302, -0.00459354],\n",
       "       [ 0.00655403,  0.00189304,  0.0076644 , ...,  0.0084704 ,\n",
       "        -0.00972553,  0.00065817],\n",
       "       [ 0.00982774, -0.00962515,  0.00661188, ...,  0.00898594,\n",
       "        -0.00266903,  0.00202336]])"
      ]
     },
     "execution_count": 28,
     "metadata": {},
     "output_type": "execute_result"
    }
   ],
   "source": [
    "emb"
   ]
  },
  {
   "cell_type": "markdown",
   "id": "84a64ec6-0a38-4b83-96ad-3292393f1ffa",
   "metadata": {
    "tags": []
   },
   "source": [
    "# Model Running Log"
   ]
  },
  {
   "cell_type": "markdown",
   "id": "160fa486-c7f3-4392-a6bb-b3f18793afbc",
   "metadata": {},
   "source": [
    ">python gru_onehot.py sequences.pkl labels.pkl output1 && \\\n",
    "\n",
    ">Loading data ...  done!!<br />\n",
    "Building the model ...  done!!<br />\n",
    "Constructing the optimizer ...  done!!<br />\n",
    "Optimization start !!<br />\n",
    "epoch:0, valid_auc:0.222222<br />\n",
    "Currenlty the best test_auc:0.777778<br />\n",
    "epoch:1, valid_auc:0.222222<br />\n",
    "epoch:2, valid_auc:0.222222<br />\n",
    "epoch:3, valid_auc:0.222222<br />\n",
    "epoch:4, valid_auc:0.222222<br />\n",
    "..."
   ]
  },
  {
   "cell_type": "markdown",
   "id": "7ed3f775-345e-4f86-9715-98546711cdf3",
   "metadata": {},
   "source": [
    ">python gru_onehot_time.py sequences.pkl times.pkl labels.pkl output2 && \\\n",
    "\n",
    ">Loading data ...  done!!<br />\n",
    "Building the model ...  done!!<br />\n",
    "Constructing the optimizer ...  done!!<br />\n",
    "Optimization start !!<br />\n",
    "epoch:0, valid_auc:0.625000<br />\n",
    "Currenlty the best test_auc:0.444444<br />\n",
    "epoch:1, valid_auc:0.625000<br />\n",
    "epoch:2, valid_auc:0.625000<br />\n",
    "epoch:3, valid_auc:0.625000<br />\n",
    "epoch:4, valid_auc:0.625000<br />\n",
    "..."
   ]
  },
  {
   "cell_type": "markdown",
   "id": "3376587a-b8af-4009-ad97-ef765c5043cc",
   "metadata": {},
   "source": [
    ">python gru_emb.py sequences.pkl labels.pkl emb.pkl output3\n",
    "\n",
    ">Building the model ...  done!!<br />\n",
    "Constructing the optimizer ...  done!!<br />\n",
    "Optimization start !!<br />\n",
    "epoch:0, valid_auc:0.777778<br />\n",
    "Currenlty the best test_auc:0.333333<br />\n",
    "epoch:1, valid_auc:0.777778<br />\n",
    "epoch:2, valid_auc:0.444444<br />\n",
    "epoch:3, valid_auc:0.444444<br />\n",
    "epoch:4, valid_auc:0.444444<br />\n",
    "..."
   ]
  },
  {
   "cell_type": "markdown",
   "id": "3e8635e5-2459-4c54-9526-433b8352e1d7",
   "metadata": {},
   "source": [
    ">python gru_emb_time.py sequences.pkl times.pkl labels.pkl emb.pkl output4\n",
    "\n",
    ">Loading data ...  done!!<br />\n",
    "Building the model ...  done!!<br />\n",
    "Constructing the optimizer ...  done!!<br />\n",
    "Optimization start !!<br />\n",
    "epoch:0, valid_auc:0.444444<br />\n",
    "Currenlty the best test_auc:0.250000<br />\n",
    "epoch:1, valid_auc:0.444444<br />\n",
    "epoch:2, valid_auc:0.444444<br />\n",
    "epoch:3, valid_auc:0.444444<br />\n",
    "epoch:4, valid_auc:0.444444<br />\n",
    "..."
   ]
  },
  {
   "cell_type": "markdown",
   "id": "9a671504-d38c-4f94-b65e-b1413b36607b",
   "metadata": {
    "tags": []
   },
   "source": [
    "# Runtime Documentation"
   ]
  },
  {
   "cell_type": "markdown",
   "id": "aa68b353-dac6-4326-801c-ae66d37ee09f",
   "metadata": {},
   "source": [
    "Model Name Runtime\n",
    "\n",
    "\n",
    "GRU_onehot 2 hrs 53 min\n",
    "\n",
    "\n",
    "GRU_onehot_time 2 hrs 38 min\n",
    "\n",
    "\n",
    "GRU_emb 2 hrs 39 min\n",
    "\n",
    "\n",
    "GRU_emb_time 2 hrs 56 min\n",
    "\n"
   ]
  },
  {
   "cell_type": "markdown",
   "id": "fabb615f-45f5-4944-9cf7-696f25b365cd",
   "metadata": {
    "tags": []
   },
   "source": [
    "# Output Data Glandce"
   ]
  },
  {
   "cell_type": "code",
   "execution_count": 7,
   "id": "e72d9f54-ca73-4ef7-9e0c-ea284a469b2d",
   "metadata": {
    "tags": []
   },
   "outputs": [
    {
     "name": "stdout",
     "output_type": "stream",
     "text": [
      "b_logistic\n",
      "b_gru\n",
      "W_gru\n",
      "W_logistic\n",
      "U_gru\n"
     ]
    }
   ],
   "source": [
    "# Load the .npz file\n",
    "data = np.load('output1.npz')\n",
    "\n",
    "data.keys()\n",
    "for key in data.keys():\n",
    "    print(key)"
   ]
  },
  {
   "cell_type": "code",
   "execution_count": 8,
   "id": "a7107540-768c-425b-a639-55e447eef04b",
   "metadata": {
    "tags": []
   },
   "outputs": [
    {
     "name": "stdout",
     "output_type": "stream",
     "text": [
      "b_logistic\n",
      "b_gru\n",
      "W_gru\n",
      "W_logistic\n",
      "U_gru\n"
     ]
    }
   ],
   "source": [
    "# Load the .npz file\n",
    "data = np.load('output2.npz')\n",
    "\n",
    "data.keys()\n",
    "for key in data.keys():\n",
    "    print(key)"
   ]
  },
  {
   "cell_type": "code",
   "execution_count": 9,
   "id": "72984e65-6a7c-4c32-b161-3c38718360de",
   "metadata": {
    "tags": []
   },
   "outputs": [
    {
     "name": "stdout",
     "output_type": "stream",
     "text": [
      "b_logistic\n",
      "b_gru\n",
      "W_gru\n",
      "W_logistic\n",
      "U_gru\n"
     ]
    }
   ],
   "source": [
    "# Load the .npz file\n",
    "data = np.load('output3.npz')\n",
    "\n",
    "data.keys()\n",
    "for key in data.keys():\n",
    "    print(key)"
   ]
  },
  {
   "cell_type": "code",
   "execution_count": 10,
   "id": "d146caf9-bf1a-4937-a78b-c9d269726000",
   "metadata": {
    "tags": []
   },
   "outputs": [
    {
     "name": "stdout",
     "output_type": "stream",
     "text": [
      "b_logistic\n",
      "b_gru\n",
      "W_gru\n",
      "W_logistic\n",
      "U_gru\n"
     ]
    }
   ],
   "source": [
    "# Load the .npz file\n",
    "data = np.load('output4.npz')\n",
    "\n",
    "data.keys()\n",
    "for key in data.keys():\n",
    "    print(key)"
   ]
  },
  {
   "cell_type": "markdown",
   "id": "7ae6e1ea-aaeb-4967-9fb4-23eaabc71f49",
   "metadata": {},
   "source": [
    "# 3. Build GRU, KNN and SVM using python 3"
   ]
  },
  {
   "cell_type": "markdown",
   "id": "901410fe-213f-4bf9-b8a6-a45806b152f3",
   "metadata": {},
   "source": [
    "As the model and codes developed by the author was based on Python 2 and the package was out of date and running time was long on our PCs, we developed our own models and codes based on Python 3 with PyTorch. \n",
    "\n",
    "\n",
    "The authors only provided the codes for GRU models based on Python 2. We then enlarged our dataset and developed our own GRU, KNN and SVM model based on Python 3 and PyTorch.\n",
    "\n",
    "\n",
    "The codes can be found in our repo\n",
    "https://github.com/GermanGGarzon/rnn_predict_hf_Luna_German\n"
   ]
  },
  {
   "cell_type": "code",
   "execution_count": null,
   "id": "21c78695-b43c-45e6-84ea-24f4b9d4fcc7",
   "metadata": {},
   "outputs": [],
   "source": []
  }
 ],
 "metadata": {
  "kernelspec": {
   "display_name": "Python 3 (ipykernel)",
   "language": "python",
   "name": "python3"
  },
  "language_info": {
   "codemirror_mode": {
    "name": "ipython",
    "version": 3
   },
   "file_extension": ".py",
   "mimetype": "text/x-python",
   "name": "python",
   "nbconvert_exporter": "python",
   "pygments_lexer": "ipython3",
   "version": "3.11.0"
  }
 },
 "nbformat": 4,
 "nbformat_minor": 5
}
